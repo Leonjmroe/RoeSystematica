{
 "cells": [
  {
   "cell_type": "code",
   "execution_count": 1,
   "id": "26011e4d",
   "metadata": {},
   "outputs": [],
   "source": [
    "x = {'ask': None, 'bid': None}"
   ]
  },
  {
   "cell_type": "code",
   "execution_count": 2,
   "id": "6adc2bcc",
   "metadata": {},
   "outputs": [],
   "source": [
    "x['ask'] = 12"
   ]
  },
  {
   "cell_type": "code",
   "execution_count": 3,
   "id": "1ae25e24",
   "metadata": {},
   "outputs": [
    {
     "data": {
      "text/plain": [
       "{'ask': 12, 'bid': None}"
      ]
     },
     "execution_count": 3,
     "metadata": {},
     "output_type": "execute_result"
    }
   ],
   "source": [
    "x"
   ]
  },
  {
   "cell_type": "code",
   "execution_count": 1,
   "id": "0651ef5d",
   "metadata": {},
   "outputs": [],
   "source": [
    "c = [{'symbol': 'BTCUSDT', 'positionAmt': '-0.005', 'entryPrice': '39514.2', 'breakEvenPrice': '39506.29716', 'markPrice': '39533.64256176', 'unRealizedProfit': '-0.09721280', 'liquidationPrice': '3033817.25581673', 'leverage': '20', 'maxNotionalValue': '20000000', 'marginType': 'cross', 'isolatedMargin': '0.00000000', 'isAutoAddMargin': 'false', 'positionSide': 'BOTH', 'notional': '-197.66821280', 'isolatedWallet': '0', 'updateTime': 1701629843800, 'isolated': False, 'adlQuantile': 3}]\n"
   ]
  },
  {
   "cell_type": "code",
   "execution_count": 3,
   "id": "7180292b",
   "metadata": {},
   "outputs": [
    {
     "data": {
      "text/plain": [
       "'-0.005'"
      ]
     },
     "execution_count": 3,
     "metadata": {},
     "output_type": "execute_result"
    }
   ],
   "source": [
    "c[0].get('positionAmt')"
   ]
  },
  {
   "cell_type": "code",
   "execution_count": null,
   "id": "7ce823af",
   "metadata": {},
   "outputs": [],
   "source": []
  }
 ],
 "metadata": {
  "kernelspec": {
   "display_name": "Python 3 (ipykernel)",
   "language": "python",
   "name": "python3"
  },
  "language_info": {
   "codemirror_mode": {
    "name": "ipython",
    "version": 3
   },
   "file_extension": ".py",
   "mimetype": "text/x-python",
   "name": "python",
   "nbconvert_exporter": "python",
   "pygments_lexer": "ipython3",
   "version": "3.11.5"
  }
 },
 "nbformat": 4,
 "nbformat_minor": 5
}
